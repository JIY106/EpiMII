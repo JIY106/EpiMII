{
 "cells": [
  {
   "cell_type": "code",
   "execution_count": null,
   "id": "6ea03945-626e-4a79-8b26-e29782f3d1f2",
   "metadata": {},
   "outputs": [],
   "source": [
    "import os\n",
    "import matplotlib.pyplot as plt\n",
    "import numpy as np"
   ]
  },
  {
   "cell_type": "code",
   "execution_count": null,
   "id": "bcedeb65-de60-4078-b587-3033f164f405",
   "metadata": {},
   "outputs": [],
   "source": [
    "def running_mean(x, N):\n",
    "    cumsum = np.cumsum(np.insert(x, 0, 0)) \n",
    "    return (cumsum[N:] - cumsum[:-N]) / float(N)"
   ]
  },
  {
   "cell_type": "code",
   "execution_count": null,
   "id": "48daa744-0fd0-4279-8c1f-e62ae8b3ceb5",
   "metadata": {},
   "outputs": [],
   "source": [
    "def get_results(txt_file):\n",
    "    # Using readlines()\n",
    "    file1 = open(txt_file, 'r')\n",
    "    Lines = file1.readlines()\n",
    "    results = []\n",
    "\n",
    "    for line in Lines:\n",
    "        if line.startswith(\"epoch:\"):\n",
    "            elements = line.split(', ')\n",
    "            epoch = int(elements[0].split(':')[1])\n",
    "            step = int(elements[1].split(':')[1])\n",
    "            time = float(elements[2].split(':')[1])\n",
    "            train_loss = float(elements[3].split(':')[1])\n",
    "            valid_loss = float(elements[4].split(':')[1])\n",
    "            train_acc = float(elements[5].split(':')[1])\n",
    "            valid_acc = float(elements[6].split(':')[1])\n",
    "\n",
    "            results.append([epoch, step, time, train_loss, valid_loss, train_acc, valid_acc])\n",
    "\n",
    "    results = np.array(results)\n",
    "    return results"
   ]
  },
  {
   "cell_type": "code",
   "execution_count": null,
   "id": "ca769f0d-9742-4b9a-97d0-627d349c648f",
   "metadata": {},
   "outputs": [],
   "source": [
    "def generate_aggregated_plots(log_files):\n",
    "    plt.figure(figsize=(12, 8))\n",
    "    colors = ['b', 'g', 'r', 'c', 'm', 'y', 'k', 'purple', 'orange', 'brown']\n",
    "\n",
    "    for i, log_file in enumerate(log_files):\n",
    "        results = get_results(log_file)\n",
    "        plt.plot(results[:, 1], results[:, 6], linewidth=4.0, c=colors[i])\n",
    "        plt.plot(results[:, 1], results[:, 5], '--', linewidth=2.0, c=colors[i])\n",
    "\n",
    "    plt.xlabel('Optimizer steps')\n",
    "    plt.ylabel('Accuracy')\n",
    "    plt.grid(True)\n",
    "    legend_labels = []\n",
    "    for i in range(1, len(log_files) + 1):\n",
    "        legend_labels.append(f'Log {i} Validation')\n",
    "        legend_labels.append(f'Log {i} Training')\n",
    "    plt.legend(legend_labels, fontsize='small')\n",
    "    plt.savefig('accuracy_44019_batchsize.png') #revise\n",
    "\n",
    "    plt.figure(figsize=(12, 8))\n",
    "\n",
    "    for i, log_file in enumerate(log_files):\n",
    "        results = get_results(log_file)\n",
    "        plt.plot(results[:, 1], results[:, 4], linewidth=4.0, c=colors[i])\n",
    "        plt.plot(results[:, 1], results[:, 3], '--', linewidth=2.0, c=colors[i])\n",
    "\n",
    "    plt.xlabel('Optimizer steps')\n",
    "    plt.ylabel('Perplexity')\n",
    "    plt.grid(True)\n",
    "    legend_labels = []\n",
    "    for i in range(1, len(log_files) + 1):\n",
    "        legend_labels.append(f'Log {i} Validation')\n",
    "        legend_labels.append(f'Log {i} Training')\n",
    "    plt.legend(legend_labels, fontsize='small')\n",
    "    plt.savefig('loss_44019_batchsize.png') #revise"
   ]
  },
  {
   "cell_type": "code",
   "execution_count": null,
   "id": "4ff1c362-d352-49bd-90c9-f42928c67499",
   "metadata": {},
   "outputs": [],
   "source": [
    "# Define a directory where your log files are located\n",
    "log_files_dir = './Train_44019_output/adjust_hyper'\n",
    "\n",
    "# Get a list of log files in the directory\n",
    "log_files = [os.path.join(log_files_dir, f'log{idx}.txt') for idx in range(2, 7)]  # Assuming you have 10 log files (adjust the range as needed)"
   ]
  },
  {
   "cell_type": "code",
   "execution_count": null,
   "id": "0e295bc0-5268-4030-940c-9587d68565bd",
   "metadata": {},
   "outputs": [],
   "source": [
    "generate_aggregated_plots(log_files)"
   ]
  },
  {
   "cell_type": "code",
   "execution_count": null,
   "id": "c8322f4d-eb18-428d-a238-98cd924de6a5",
   "metadata": {},
   "outputs": [],
   "source": []
  },
  {
   "cell_type": "code",
   "execution_count": null,
   "id": "2fecec2b-552d-4a91-a831-45f9dbb88837",
   "metadata": {},
   "outputs": [],
   "source": []
  }
 ],
 "metadata": {
  "kernelspec": {
   "display_name": "Python 3 (ipykernel)",
   "language": "python",
   "name": "python3"
  },
  "language_info": {
   "codemirror_mode": {
    "name": "ipython",
    "version": 3
   },
   "file_extension": ".py",
   "mimetype": "text/x-python",
   "name": "python",
   "nbconvert_exporter": "python",
   "pygments_lexer": "ipython3",
   "version": "3.12.2"
  }
 },
 "nbformat": 4,
 "nbformat_minor": 5
}
