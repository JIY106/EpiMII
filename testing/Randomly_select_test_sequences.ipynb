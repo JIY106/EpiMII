{
 "cells": [
  {
   "cell_type": "code",
   "execution_count": 1,
   "id": "b8eb614d-a9fd-48d7-a096-ff0519fd5a68",
   "metadata": {},
   "outputs": [],
   "source": [
    "#Randomly select 100 2D sequences from 48w database that do not include in the whole 142934 training dataset"
   ]
  },
  {
   "cell_type": "code",
   "execution_count": 2,
   "id": "efdc6361-557c-4bcd-b056-c69479c97c03",
   "metadata": {},
   "outputs": [],
   "source": [
    "import random\n",
    "import pandas as pd"
   ]
  },
  {
   "cell_type": "code",
   "execution_count": 3,
   "id": "8d6c3216-6f1c-4d21-b075-9231bf7fdfca",
   "metadata": {},
   "outputs": [],
   "source": [
    "random.seed(36)  # You can choose any number as your seed "
   ]
  },
  {
   "cell_type": "code",
   "execution_count": 4,
   "id": "1c310cc6-9e7d-4560-b31d-86239094745e",
   "metadata": {},
   "outputs": [],
   "source": [
    "df = pd.read_csv('../dataset/list_no_cluster.csv')\n",
    "sequence_list1 = list(zip(df['IEDBID'].str.split('_').str[0], df['SEQUENCE']))"
   ]
  },
  {
   "cell_type": "code",
   "execution_count": 5,
   "id": "a3314034-5a17-4210-811f-7a05d9a00a22",
   "metadata": {},
   "outputs": [
    {
     "name": "stdout",
     "output_type": "stream",
     "text": [
      "[('2029872', 'KTGDLRYLWRPASNRSLP'), ('2029944', 'KTKKGMFRTVGQLY'), ('2030063', 'KTQLAKNETLALPAE'), ('2030341', 'KVGEPTYSCRDCAVDPT'), ('2030627', 'KVVNLPTDLFNSVMN')]\n"
     ]
    }
   ],
   "source": [
    "print(sequence_list1[:5])"
   ]
  },
  {
   "cell_type": "code",
   "execution_count": 6,
   "id": "4a938338-f3e1-4bb2-9cdd-2cc8ee9bec1b",
   "metadata": {},
   "outputs": [],
   "source": [
    "# Load sequences and IDs from the text file\n",
    "sequence_list2 = set()\n",
    "sequence_file = \"../dataset/combined_output_25.txt\"\n",
    "with open(sequence_file, \"r\") as file:\n",
    "    for line in file:\n",
    "        iedb_id = line.strip().split(',')[0]\n",
    "        sequence_list2.add(iedb_id)"
   ]
  },
  {
   "cell_type": "code",
   "execution_count": 7,
   "id": "c0486c7c-8f58-47bb-a3e3-864a8a53afd8",
   "metadata": {},
   "outputs": [],
   "source": [
    "sequences_not_in_txt = [t for t in sequence_list1 if t[0] not in sequence_list2]"
   ]
  },
  {
   "cell_type": "code",
   "execution_count": 8,
   "id": "cd99233c-40bb-4d67-9c0b-772e42d2a244",
   "metadata": {},
   "outputs": [],
   "source": [
    "if len(sequence_list1) >= 100:\n",
    "    selected_pairs = random.sample(sequences_not_in_txt, 100)\n",
    "else:\n",
    "    print(\"Not enough data to select 100 unique pairs.\")\n",
    "    selected_pairs = sequences_not_in_txt"
   ]
  },
  {
   "cell_type": "code",
   "execution_count": 10,
   "id": "00bb9d2c-5958-478f-9538-676cefa682e4",
   "metadata": {},
   "outputs": [],
   "source": [
    "output_file_path = \"randomly_selected_sequences.txt\"\n",
    "with open(output_file_path, \"w\") as output_file:\n",
    "    for iedb_id, sequence in selected_pairs:\n",
    "        output_file.write(f\"{iedb_id},{sequence}\\n\")"
   ]
  },
  {
   "cell_type": "code",
   "execution_count": 11,
   "id": "af2202f4-ca40-419b-8705-7a9a1c4616b3",
   "metadata": {},
   "outputs": [
    {
     "name": "stdout",
     "output_type": "stream",
     "text": [
      "C:\\Users\\JIY106\\OneDrive - University of Pittsburgh\\Publications\\Redesign\\Github\\testing\n"
     ]
    }
   ],
   "source": [
    "#copy the modelled epitope structures from 48w folder\n",
    "import os\n",
    "import shutil\n",
    "print(os.getcwd())"
   ]
  },
  {
   "cell_type": "code",
   "execution_count": 11,
   "id": "bbb844cc-41a0-4a09-bb60-a7d84fe62a12",
   "metadata": {},
   "outputs": [
    {
     "name": "stdout",
     "output_type": "stream",
     "text": [
      "485367\n"
     ]
    }
   ],
   "source": [
    "Modeller_output_48_folder = 'C:\\\\Users\\\\JIY106\\\\OneDrive - University of Pittsburgh\\\\Antigen design\\\\Aim1_related\\\\Modeller\\\\basic-example_final_version\\\\basic-example\\\\Modeller_output' #folder of 480,000 3D epitopes\n",
    "pdb_files = [file for file in os.listdir(Modeller_output_48w_folder) if file.endswith('.pdb')]\n",
    "print(len(pdb_files))"
   ]
  },
  {
   "cell_type": "code",
   "execution_count": 12,
   "id": "2deac63c-fde7-470c-88e5-c3a7ca1d779b",
   "metadata": {},
   "outputs": [],
   "source": [
    "selected_sequences_file = 'randomly_selected_sequences.txt'\n",
    "destination_directory = 'Randomly_selected_pdbs'\n",
    "if not os.path.exists(destination_directory):\n",
    "    os.makedirs(destination_directory)"
   ]
  },
  {
   "cell_type": "code",
   "execution_count": 13,
   "id": "c2dbd79c-fe62-4816-b9a3-3803efb8301d",
   "metadata": {},
   "outputs": [
    {
     "name": "stdout",
     "output_type": "stream",
     "text": [
      "['1762737', '1776059', '1091789', '1610972', '1193405', '651158', '1179804', '163173', '1185262', '1110200', '1213472', '1971692', '1616113', '1193900', '1137783', '1276964', '439170', '2118053', '1290194', '1146869', '1958708', '1221769', '1089295', '759680', '1153403', '1959867', '1193628', '1392836', '1874271', '2043407', '1750295', '738812', '2010919', '738640', '692318', '1885938', '730791', '1149775', '1904622', '1967450', '1328121', '1343693', '1144322', '1720530', '1163256', '2025885', '1299073', '1267956', '1144355', '1888617', '1127957', '1282915', '1234221', '1961189', '1204484', '2120612', '1816168', '222927', '80915', '1241706', '1734479', '1773008', '547370', '1740108', '1778991', '1906755', '1909511', '2024983', '871922', '1887354', '1106214', '1142661', '1869967', '1264240', '2023797', '1858106', '848161', '1150037', '1264648', '923366', '1330386', '1927594', '2123769', '2042331', '1186329', '1759610', '1120144', '1114107', '1153063', '1234967', '2118234', '1120510', '1274864', '547591', '1255325', '1135523', '468732', '1169798', '1199084', '1096505']\n"
     ]
    }
   ],
   "source": [
    "iedbid_list = []\n",
    "with open(selected_sequences_file, 'r') as file:\n",
    "    for line in file:\n",
    "        iedbid, sequence = line.strip().split(',')\n",
    "        iedbid_list.append(iedbid)\n",
    "print(iedbid_list)"
   ]
  },
  {
   "cell_type": "code",
   "execution_count": 14,
   "id": "650c5c41-ff51-445a-9d0c-c00f116ecbee",
   "metadata": {},
   "outputs": [
    {
     "ename": "NameError",
     "evalue": "name 'Modeller_output_48w_folder' is not defined",
     "output_type": "error",
     "traceback": [
      "\u001b[1;31m---------------------------------------------------------------------------\u001b[0m",
      "\u001b[1;31mNameError\u001b[0m                                 Traceback (most recent call last)",
      "Cell \u001b[1;32mIn[14], line 1\u001b[0m\n\u001b[1;32m----> 1\u001b[0m \u001b[38;5;28;01mfor\u001b[39;00m file \u001b[38;5;129;01min\u001b[39;00m os\u001b[38;5;241m.\u001b[39mlistdir(\u001b[43mModeller_output_48w_folder\u001b[49m):\n\u001b[0;32m      2\u001b[0m     \u001b[38;5;66;03m# Check if the file is a PDB file and its IEDBID is in the list\u001b[39;00m\n\u001b[0;32m      3\u001b[0m     \u001b[38;5;28;01mif\u001b[39;00m file\u001b[38;5;241m.\u001b[39mendswith(\u001b[38;5;124m'\u001b[39m\u001b[38;5;124m.pdb\u001b[39m\u001b[38;5;124m'\u001b[39m):\n\u001b[0;32m      4\u001b[0m         file_iedbid \u001b[38;5;241m=\u001b[39m file\u001b[38;5;241m.\u001b[39msplit(\u001b[38;5;124m'\u001b[39m\u001b[38;5;124m.\u001b[39m\u001b[38;5;124m'\u001b[39m)[\u001b[38;5;241m0\u001b[39m]\n",
      "\u001b[1;31mNameError\u001b[0m: name 'Modeller_output_48w_folder' is not defined"
     ]
    }
   ],
   "source": [
    "for file in os.listdir(Modeller_output_48w_folder):\n",
    "    # Check if the file is a PDB file and its IEDBID is in the list\n",
    "    if file.endswith('.pdb'):\n",
    "        file_iedbid = file.split('.')[0]\n",
    "        if file_iedbid in iedbid_list:\n",
    "            shutil.copy(os.path.join(Modeller_output_48w_folder, file), os.path.join(destination_directory, file))"
   ]
  },
  {
   "cell_type": "code",
   "execution_count": null,
   "id": "c4e0b27e-2d9f-4f46-9e4e-b9b7010d849e",
   "metadata": {},
   "outputs": [],
   "source": []
  }
 ],
 "metadata": {
  "kernelspec": {
   "display_name": "Python 3 (ipykernel)",
   "language": "python",
   "name": "python3"
  },
  "language_info": {
   "codemirror_mode": {
    "name": "ipython",
    "version": 3
   },
   "file_extension": ".py",
   "mimetype": "text/x-python",
   "name": "python",
   "nbconvert_exporter": "python",
   "pygments_lexer": "ipython3",
   "version": "3.12.7"
  }
 },
 "nbformat": 4,
 "nbformat_minor": 5
}
