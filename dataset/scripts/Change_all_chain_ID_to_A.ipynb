{
 "cells": [
  {
   "cell_type": "code",
   "execution_count": 6,
   "id": "64e7e97c-da6d-46db-a92a-1e1c9f69160b",
   "metadata": {},
   "outputs": [
    {
     "name": "stdout",
     "output_type": "stream",
     "text": [
      "C:\\Users\\JIY106\\OneDrive - University of Pittsburgh\\Publications\\Redesign\\Github\\dataset\\scripts\n"
     ]
    }
   ],
   "source": [
    "import os\n",
    "print(os.getcwd())"
   ]
  },
  {
   "cell_type": "code",
   "execution_count": 7,
   "id": "ad5fbe2f-309c-4082-aacd-017f8223bb3d",
   "metadata": {},
   "outputs": [],
   "source": [
    "def change_chain_id_to_a(folder_path):\n",
    "    for file_name in os.listdir(folder_path):\n",
    "        if file_name.endswith(\".pdb\"):  # Ensure we are only processing PDB files\n",
    "            file_path = os.path.join(folder_path, file_name)\n",
    "            with open(file_path, 'r') as file:\n",
    "                lines = file.readlines()\n",
    "            \n",
    "            with open(file_path, 'w') as file:\n",
    "                for line in lines:\n",
    "                    if line.startswith(\"ATOM\"):  # Check if the line represents an atom\n",
    "                        line = line[:21] + 'A' + line[22:]  # Change chain ID to 'A'\n",
    "                    file.write(line)"
   ]
  },
  {
   "cell_type": "code",
   "execution_count": 8,
   "id": "6fc3ce6d-0aa4-4aac-b922-f6250bed2d6a",
   "metadata": {},
   "outputs": [],
   "source": [
    "# Usage example, replace 'path/to/your/folder' with the actual path to your folder\n",
    "folder_path = '../3D_crystalized_all'\n",
    "change_chain_id_to_a(folder_path)"
   ]
  },
  {
   "cell_type": "code",
   "execution_count": 10,
   "id": "46b5cf35-df8a-447b-a80f-6dce509ba251",
   "metadata": {},
   "outputs": [],
   "source": [
    "def verify_chain_id(folder_path):\n",
    "    for file_name in os.listdir(folder_path):\n",
    "        if file_name.endswith(\".pdb\"):  # Ensure we are only processing PDB files\n",
    "            file_path = os.path.join(folder_path, file_name)\n",
    "            with open(file_path, 'r') as file:\n",
    "                lines = file.readlines()\n",
    "            \n",
    "            for line in lines:\n",
    "                if line.startswith(\"ATOM\"):  # Check if the line represents an atom\n",
    "                    chain_id = line[21]  # Extract chain ID\n",
    "                    if chain_id != 'A':\n",
    "                        print(f\"File {file_name} has a non-'A' chain ID: {chain_id}\")\n",
    "                        break\n",
    "    print(\"Verification complete.\")"
   ]
  },
  {
   "cell_type": "code",
   "execution_count": 11,
   "id": "5dd04fdf-e306-4f66-8dc6-df6b1dd06d72",
   "metadata": {},
   "outputs": [
    {
     "name": "stdout",
     "output_type": "stream",
     "text": [
      "Verification complete.\n"
     ]
    }
   ],
   "source": [
    "# Usage example, replace 'path/to/your/folder' with the actual path to your folder\n",
    "folder_path = '../3D_crystalized_all'\n",
    "verify_chain_id(folder_path)"
   ]
  },
  {
   "cell_type": "code",
   "execution_count": null,
   "id": "54861889-95f6-4169-b57b-311e49a1cf4d",
   "metadata": {},
   "outputs": [],
   "source": []
  }
 ],
 "metadata": {
  "kernelspec": {
   "display_name": "Python 3 (ipykernel)",
   "language": "python",
   "name": "python3"
  },
  "language_info": {
   "codemirror_mode": {
    "name": "ipython",
    "version": 3
   },
   "file_extension": ".py",
   "mimetype": "text/x-python",
   "name": "python",
   "nbconvert_exporter": "python",
   "pygments_lexer": "ipython3",
   "version": "3.12.7"
  }
 },
 "nbformat": 4,
 "nbformat_minor": 5
}
