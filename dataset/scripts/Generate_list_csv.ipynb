{
 "cells": [
  {
   "cell_type": "code",
   "execution_count": null,
   "id": "e5d46c1c-85de-44fe-ac29-7dc6ed27bfc6",
   "metadata": {},
   "outputs": [],
   "source": [
    "import csv\n",
    "import pandas as pd"
   ]
  },
  {
   "cell_type": "code",
   "execution_count": null,
   "id": "7db77493-d4a8-4ad3-ba61-25230ac60af6",
   "metadata": {},
   "outputs": [],
   "source": [
    "# Step 1: Read the .txt file to create a mapping\n",
    "txt_mapping = {}\n",
    "with open('combined_output_25.txt', 'r') as txt_file:\n",
    "    for line in txt_file:\n",
    "        parts = line.strip().split(',')\n",
    "        if len(parts) >= 4:\n",
    "            # Map the IEDBID (without the suffix) to Sequence similarity and templates\n",
    "            txt_mapping[parts[0]] = (parts[3], parts[1])"
   ]
  },
  {
   "cell_type": "code",
   "execution_count": null,
   "id": "01371e8d-d8a7-4c1d-9ac5-db739e5b4ba7",
   "metadata": {},
   "outputs": [],
   "source": [
    "txt_mapping"
   ]
  },
  {
   "cell_type": "code",
   "execution_count": null,
   "id": "0ff7f9f6-502c-4078-b1ec-f38198a01676",
   "metadata": {},
   "outputs": [],
   "source": [
    "# Step 2: Read the .csv file and filter rows\n",
    "filtered_rows = []\n",
    "with open('list_no_cluster.csv', 'r') as csv_file:\n",
    "    reader = csv.DictReader(csv_file, delimiter=',')\n",
    "    print(reader.fieldnames)\n",
    "    for row in reader:\n",
    "        iedbid_base = row['IEDBID'].split('_')[0]  # Assuming IEDBID format is 'number_suffix'\n",
    "        if iedbid_base in txt_mapping:\n",
    "            # Step 3: Add the Sequence similarity and templates values\n",
    "            row['Sequence similarity'] = txt_mapping[iedbid_base][0]\n",
    "            row['templates'] = txt_mapping[iedbid_base][1]\n",
    "            filtered_rows.append(row)"
   ]
  },
  {
   "cell_type": "code",
   "execution_count": null,
   "id": "75b4d28c-6e09-40ef-b9cd-f6954e7e30ec",
   "metadata": {},
   "outputs": [],
   "source": [
    "# Step 4: Write the modified rows to a new .csv file\n",
    "with open('list_142934.csv', 'w', newline='') as out_file:\n",
    "    fieldnames = list(filtered_rows[0].keys())  # Get the fieldnames from the first row\n",
    "    writer = csv.DictWriter(out_file, fieldnames=fieldnames, delimiter=',')\n",
    "    writer.writeheader()\n",
    "    writer.writerows(filtered_rows)"
   ]
  },
  {
   "cell_type": "code",
   "execution_count": null,
   "id": "3a01c692-8e87-419e-aadb-22d8da24a15a",
   "metadata": {},
   "outputs": [],
   "source": []
  }
 ],
 "metadata": {
  "kernelspec": {
   "display_name": "Python 3 (ipykernel)",
   "language": "python",
   "name": "python3"
  },
  "language_info": {
   "codemirror_mode": {
    "name": "ipython",
    "version": 3
   },
   "file_extension": ".py",
   "mimetype": "text/x-python",
   "name": "python",
   "nbconvert_exporter": "python",
   "pygments_lexer": "ipython3",
   "version": "3.12.2"
  }
 },
 "nbformat": 4,
 "nbformat_minor": 5
}
